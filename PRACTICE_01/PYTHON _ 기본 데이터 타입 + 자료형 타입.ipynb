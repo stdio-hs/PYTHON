{
 "cells": [
  {
   "cell_type": "markdown",
   "id": "43cd11f2",
   "metadata": {},
   "source": [
    "# PYTHON _ 기본 데이터 타입 + 자료형 타입"
   ]
  },
  {
   "cell_type": "markdown",
   "id": "46a9bb53",
   "metadata": {},
   "source": [
    "</br></br></br>"
   ]
  },
  {
   "cell_type": "markdown",
   "id": "b8786231",
   "metadata": {},
   "source": [
    "### [[ 숫자형 + 문자열  ]]"
   ]
  },
  {
   "cell_type": "markdown",
   "id": "82cedc4b",
   "metadata": {},
   "source": [
    "-  정수 (int)\n",
    "- 실수 (float)\n",
    "- 문자열 (str)"
   ]
  },
  {
   "cell_type": "code",
   "execution_count": 1,
   "id": "9fc68d6e",
   "metadata": {},
   "outputs": [
    {
     "name": "stdout",
     "output_type": "stream",
     "text": [
      "<class 'int'>\n",
      "<class 'float'>\n",
      "<class 'str'>\n"
     ]
    }
   ],
   "source": [
    "a = 1\n",
    "b = 1.5\n",
    "c = '파이썬'\n",
    "\n",
    "print(type(a))\n",
    "print(type(b))\n",
    "print(type(c))"
   ]
  },
  {
   "cell_type": "markdown",
   "id": "27c8fb1a",
   "metadata": {},
   "source": [
    "</br></br></br></br></br>"
   ]
  },
  {
   "cell_type": "markdown",
   "id": "6288e49f",
   "metadata": {},
   "source": [
    "### [[ 리스트 + 튜플 + 딕셔너리 + 집합  ]]"
   ]
  },
  {
   "cell_type": "markdown",
   "id": "13cedd8c",
   "metadata": {},
   "source": [
    " #### - LIST ( 리스트 )\n",
    " > - 숫자형 또는 문자열 자료형을 하나의 집합화\n",
    " > - 리스트를 만들 때는 대괄호 [ ]를 사용한다.\n",
    " > - 리스트에 포함되는 각 요소들은 쉼표 ',' 로 구성한다. \n",
    " > - 리스트를 리스트로 가질 수 있다.\n",
    " > - 리스트 내에서 문장ㄹ을 넣을 때는 꼭 따옴표 ' ' 처리 해주기.\n",
    " "
   ]
  },
  {
   "cell_type": "code",
   "execution_count": 2,
   "id": "03d55a32",
   "metadata": {},
   "outputs": [
    {
     "name": "stdout",
     "output_type": "stream",
     "text": [
      "리스트_1 리스트_2 리스트_3\n",
      "리스트_1 리스트_2 리스트_3\n"
     ]
    }
   ],
   "source": [
    "print(\"리스트_1\", \"리스트_2\", \"리스트_3\")\n",
    "print('리스트_1', '리스트_2', '리스트_3')"
   ]
  },
  {
   "cell_type": "markdown",
   "id": "a91d8933",
   "metadata": {},
   "source": [
    "</br>"
   ]
  },
  {
   "cell_type": "markdown",
   "id": "4794efc2",
   "metadata": {},
   "source": [
    "#### - TUPLE ( 튜플 )\n",
    " > - 리스트와 비슷하지만 요소를 변경할 수 없음\n",
    " > - 소괄호 ( ) 를 사용한다.\n",
    " > - 리스트[인덱스] 를 활용하여 해당 위치의 값을 불러올 수 있음."
   ]
  },
  {
   "cell_type": "code",
   "execution_count": 91,
   "id": "e6bad32f",
   "metadata": {},
   "outputs": [
    {
     "data": {
      "text/plain": [
       "['DOG', 'CAT', 'BIRD']"
      ]
     },
     "execution_count": 91,
     "metadata": {},
     "output_type": "execute_result"
    }
   ],
   "source": [
    "names = [\"DOG\", \"CAT\", \"BIRD\"]\n",
    "names"
   ]
  },
  {
   "cell_type": "code",
   "execution_count": 92,
   "id": "3d2b2e8a",
   "metadata": {
    "scrolled": true
   },
   "outputs": [
    {
     "data": {
      "text/plain": [
       "'DOG'"
      ]
     },
     "execution_count": 92,
     "metadata": {},
     "output_type": "execute_result"
    }
   ],
   "source": [
    "#조회도 가능하다.\n",
    "\n",
    "names[0]"
   ]
  },
  {
   "cell_type": "code",
   "execution_count": 93,
   "id": "8c9027d0",
   "metadata": {},
   "outputs": [
    {
     "data": {
      "text/plain": [
       "['TIGER', 'CAT', 'BIRD']"
      ]
     },
     "execution_count": 93,
     "metadata": {},
     "output_type": "execute_result"
    }
   ],
   "source": [
    "# 특정 값을 수정 가능하다.\n",
    "\n",
    "names[0] = \"TIGER\"\n",
    "names"
   ]
  },
  {
   "cell_type": "code",
   "execution_count": 94,
   "id": "9b131cb3",
   "metadata": {
    "scrolled": false
   },
   "outputs": [
    {
     "data": {
      "text/plain": [
       "['CAT', 'BIRD']"
      ]
     },
     "execution_count": 94,
     "metadata": {},
     "output_type": "execute_result"
    }
   ],
   "source": [
    "# 특정 값을 삭제 가능하다.\n",
    "\n",
    "names.remove(\"TIGER\")\n",
    "names"
   ]
  },
  {
   "cell_type": "code",
   "execution_count": 96,
   "id": "fe88ff1e",
   "metadata": {
    "scrolled": true
   },
   "outputs": [
    {
     "data": {
      "text/plain": [
       "['CAT', 'BIRD', 'ELEPHANT']"
      ]
     },
     "execution_count": 96,
     "metadata": {},
     "output_type": "execute_result"
    }
   ],
   "source": [
    "# 리스트에 추가도 가능하다. ( append = 원소 마지막에 추가)\n",
    "\n",
    "names.append(\"ELEPHANT\")\n",
    "names"
   ]
  },
  {
   "cell_type": "code",
   "execution_count": 98,
   "id": "fc8c8b34",
   "metadata": {},
   "outputs": [
    {
     "data": {
      "text/plain": [
       "['DUCK', 'CAT', 'BIRD', 'ELEPHANT']"
      ]
     },
     "execution_count": 98,
     "metadata": {},
     "output_type": "execute_result"
    }
   ],
   "source": [
    "# 리스트에 원하는 위치에 추가 가능하다.\n",
    "\n",
    "names.insert(0,\"DUCK\")\n",
    "names"
   ]
  },
  {
   "cell_type": "markdown",
   "id": "46d2b420",
   "metadata": {},
   "source": [
    "</br>"
   ]
  },
  {
   "cell_type": "markdown",
   "id": "659bd692",
   "metadata": {},
   "source": [
    "#### - DICTIONARY ( 딕셔너리 )\n",
    "> - 키(KEY)와 값(VALUE)이 있는 자료형\n",
    "> - 기본 딕셔너리 표현 : {Key_1 : Value, Key_2 : Value, ... }\n",
    "> - 중괄호 { } 를 사용한다.\n",
    "> - 인덱스[ ] 말고, 키(KEY)로 값(VALUE)를 조회할 수 있다."
   ]
  },
  {
   "cell_type": "code",
   "execution_count": 52,
   "id": "674bc0b6",
   "metadata": {},
   "outputs": [
    {
     "data": {
      "text/plain": [
       "{'name': 'LHS', 'age': '24', 'grade': 'A++'}"
      ]
     },
     "execution_count": 52,
     "metadata": {},
     "output_type": "execute_result"
    }
   ],
   "source": [
    "LIST_1 = {\"name\" : \"LHS\", \"age\" : \"24\", \"grade\" : \"A++\"}\n",
    "\n",
    "LIST_1"
   ]
  },
  {
   "cell_type": "code",
   "execution_count": 60,
   "id": "e6bcb49e",
   "metadata": {},
   "outputs": [
    {
     "data": {
      "text/plain": [
       "'24'"
      ]
     },
     "execution_count": 60,
     "metadata": {},
     "output_type": "execute_result"
    }
   ],
   "source": [
    "# KEY 를 통해 해당 VALUE를 조회도 가능하다.\n",
    "\n",
    "LIST_1[\"age\"]"
   ]
  },
  {
   "cell_type": "code",
   "execution_count": 61,
   "id": "8c9fe018",
   "metadata": {},
   "outputs": [
    {
     "data": {
      "text/plain": [
       "{'name': 'LHS', 'age': '24', 'grade': 'A++', 'SEX': 'MALE'}"
      ]
     },
     "execution_count": 61,
     "metadata": {},
     "output_type": "execute_result"
    }
   ],
   "source": [
    "# 새로운 요소를 추가할 수 있다.\n",
    "\n",
    "LIST_1[\"SEX\"] = \"MALE\"\n",
    "LIST_1"
   ]
  },
  {
   "cell_type": "markdown",
   "id": "2f125a66",
   "metadata": {},
   "source": [
    "</br>"
   ]
  },
  {
   "cell_type": "markdown",
   "id": "e8710a02",
   "metadata": {},
   "source": [
    "#### - SET ( 집합 )\n",
    "> - a. 딕셔너리와 똑같이 중괄호 { } 를 사용한다.\n",
    "> - b. 혹은 set([ ]) 으로 사용 가능하다.\n",
    "> - 딕셔너리와 다르게 인덱스가 없어서, 인덱싱을 못한다. (그래서 사용성이 없다.)"
   ]
  },
  {
   "cell_type": "code",
   "execution_count": 5,
   "id": "e6d60f8e",
   "metadata": {},
   "outputs": [
    {
     "name": "stdout",
     "output_type": "stream",
     "text": [
      "{1, 2, 3, 4, 5}\n",
      "{6, 7, 8, 9, 10}\n"
     ]
    }
   ],
   "source": [
    "SET_1 = {1,2,3,4,5}\n",
    "SET_2 = set([6,7,8,9,10])\n",
    "\n",
    "print(SET_1)\n",
    "print(SET_2)"
   ]
  },
  {
   "cell_type": "markdown",
   "id": "c69facf1",
   "metadata": {},
   "source": [
    "</br></br></br></br></br>"
   ]
  },
  {
   "cell_type": "markdown",
   "id": "4993d987",
   "metadata": {},
   "source": [
    "### [[ 문자의 인덱싱, 슬라이싱 ]]"
   ]
  },
  {
   "cell_type": "markdown",
   "id": "6924096d",
   "metadata": {},
   "source": [
    "- 주어진 문자에서 필요한 부분만 가져올 수 있다.\n",
    "- 대괄호 [ 시작 : 끝 : 단위 ] 를 사용한다."
   ]
  },
  {
   "cell_type": "code",
   "execution_count": 6,
   "id": "aeabfd07",
   "metadata": {},
   "outputs": [
    {
     "data": {
      "text/plain": [
       "'동'"
      ]
     },
     "execution_count": 6,
     "metadata": {},
     "output_type": "execute_result"
    }
   ],
   "source": [
    "\"동해물과 백두산이 마르고 닳도록\"[0]\n",
    "# [0] 번째 글자를 가져온다."
   ]
  },
  {
   "cell_type": "code",
   "execution_count": 7,
   "id": "c358d115",
   "metadata": {},
   "outputs": [
    {
     "data": {
      "text/plain": [
       "'과'"
      ]
     },
     "execution_count": 7,
     "metadata": {},
     "output_type": "execute_result"
    }
   ],
   "source": [
    "\"동해물과 백두산이 마르고 닳도록\"[3]\n",
    "# [3] 번째 글자를 가져온다."
   ]
  },
  {
   "cell_type": "code",
   "execution_count": 8,
   "id": "c7d0fb5e",
   "metadata": {},
   "outputs": [
    {
     "data": {
      "text/plain": [
       "'록'"
      ]
     },
     "execution_count": 8,
     "metadata": {},
     "output_type": "execute_result"
    }
   ],
   "source": [
    "\"동해물과 백두산이 마르고 닳도록\"[-1]\n",
    "# 뒤에서부터 카운트하여 글자를 가져온다."
   ]
  },
  {
   "cell_type": "code",
   "execution_count": 9,
   "id": "fdbd9f1d",
   "metadata": {},
   "outputs": [
    {
     "data": {
      "text/plain": [
       "'동해물과'"
      ]
     },
     "execution_count": 9,
     "metadata": {},
     "output_type": "execute_result"
    }
   ],
   "source": [
    "\"동해물과 백두산이 마르고 닳도록\"[0:4]\n",
    "# [0] 번째 ~ [4] 번째 글자를 가져온다."
   ]
  },
  {
   "cell_type": "code",
   "execution_count": 10,
   "id": "d86489e2",
   "metadata": {},
   "outputs": [
    {
     "data": {
      "text/plain": [
       "'동물'"
      ]
     },
     "execution_count": 10,
     "metadata": {},
     "output_type": "execute_result"
    }
   ],
   "source": [
    "\"동해물과 백두산이 마르고 닳도록\"[0:4:2]\n",
    "# [0] 번째 ~ [4] 번째 글자를 가져온다. (2개씩 넘긴다.)"
   ]
  },
  {
   "cell_type": "markdown",
   "id": "38c76f5d",
   "metadata": {},
   "source": [
    "</br></br></br></br></br>"
   ]
  },
  {
   "cell_type": "markdown",
   "id": "554932ad",
   "metadata": {},
   "source": [
    "### [[ 참 &거짓 ]]"
   ]
  },
  {
   "cell_type": "markdown",
   "id": "03085707",
   "metadata": {},
   "source": [
    "- BOOL (불린) _ TRUE or FALSE\n",
    "- BOOL 데이터는 주로 비교연산, 논리 연산의 결과로 사용된다.\n",
    "- 조건문 반복문 등을 활용하여 프로그래밍한다."
   ]
  },
  {
   "cell_type": "markdown",
   "id": "527d5a04",
   "metadata": {},
   "source": [
    "- BOOL 표현방식\n",
    "> - == : 같은가?\n",
    "> - != : 다른가?\n",
    "> - <= : 크거나 같은가? / 작거나 같은가?\n",
    "> - < : 큰가 ? / 작은가"
   ]
  },
  {
   "cell_type": "code",
   "execution_count": 13,
   "id": "3e507c73",
   "metadata": {},
   "outputs": [
    {
     "data": {
      "text/plain": [
       "True"
      ]
     },
     "execution_count": 13,
     "metadata": {},
     "output_type": "execute_result"
    }
   ],
   "source": [
    "True"
   ]
  },
  {
   "cell_type": "code",
   "execution_count": 14,
   "id": "12d31f8f",
   "metadata": {},
   "outputs": [
    {
     "data": {
      "text/plain": [
       "True"
      ]
     },
     "execution_count": 14,
     "metadata": {},
     "output_type": "execute_result"
    }
   ],
   "source": [
    "10 > 1"
   ]
  },
  {
   "cell_type": "code",
   "execution_count": 15,
   "id": "826d7172",
   "metadata": {},
   "outputs": [
    {
     "data": {
      "text/plain": [
       "False"
      ]
     },
     "execution_count": 15,
     "metadata": {},
     "output_type": "execute_result"
    }
   ],
   "source": [
    "10 < 1"
   ]
  },
  {
   "cell_type": "markdown",
   "id": "09155a63",
   "metadata": {},
   "source": [
    "</br></br></br></br></br>"
   ]
  },
  {
   "cell_type": "markdown",
   "id": "22c6cfdf",
   "metadata": {},
   "source": [
    "### [[ 논리 연산 ]]"
   ]
  },
  {
   "cell_type": "markdown",
   "id": "3f5db95e",
   "metadata": {},
   "source": [
    "- and\n",
    "- or\n",
    "- not"
   ]
  },
  {
   "cell_type": "code",
   "execution_count": 16,
   "id": "a6955ad0",
   "metadata": {},
   "outputs": [
    {
     "data": {
      "text/plain": [
       "True"
      ]
     },
     "execution_count": 16,
     "metadata": {},
     "output_type": "execute_result"
    }
   ],
   "source": [
    "True and True"
   ]
  },
  {
   "cell_type": "code",
   "execution_count": 17,
   "id": "624883f8",
   "metadata": {},
   "outputs": [
    {
     "data": {
      "text/plain": [
       "False"
      ]
     },
     "execution_count": 17,
     "metadata": {},
     "output_type": "execute_result"
    }
   ],
   "source": [
    "True and False"
   ]
  },
  {
   "cell_type": "code",
   "execution_count": 18,
   "id": "de357ca3",
   "metadata": {},
   "outputs": [
    {
     "data": {
      "text/plain": [
       "True"
      ]
     },
     "execution_count": 18,
     "metadata": {},
     "output_type": "execute_result"
    }
   ],
   "source": [
    "True or False"
   ]
  },
  {
   "cell_type": "code",
   "execution_count": 19,
   "id": "e7058e51",
   "metadata": {},
   "outputs": [
    {
     "data": {
      "text/plain": [
       "False"
      ]
     },
     "execution_count": 19,
     "metadata": {},
     "output_type": "execute_result"
    }
   ],
   "source": [
    "not True"
   ]
  },
  {
   "cell_type": "markdown",
   "id": "3a5f84b3",
   "metadata": {},
   "source": [
    "</br></br></br></br></br>"
   ]
  },
  {
   "cell_type": "markdown",
   "id": "a3a3d7ef",
   "metadata": {},
   "source": [
    "### [[ 변수 ]]"
   ]
  },
  {
   "cell_type": "markdown",
   "id": "9b9e1a9e",
   "metadata": {},
   "source": [
    " - 데이터를 담는 공간\n",
    " - 위에서 살펴본 자료형을 저장할 수 있다."
   ]
  },
  {
   "cell_type": "code",
   "execution_count": 20,
   "id": "fff6b00d",
   "metadata": {},
   "outputs": [
    {
     "name": "stdout",
     "output_type": "stream",
     "text": [
      "나의 이름은 LHS 이고, 나의 나이는 24 이다.\n"
     ]
    }
   ],
   "source": [
    "# 변수명 = 데이터\n",
    "NAME = 'LHS'\n",
    "AGE = 24\n",
    "\n",
    "# f = Formatting (문자열포메팅)\n",
    "# 문자열 포맷팅 = 문자열 안에 바로 변수를 대입할 수 있는 방법\n",
    "print(f\"나의 이름은 {NAME} 이고, 나의 나이는 {AGE} 이다.\")\n"
   ]
  },
  {
   "cell_type": "code",
   "execution_count": null,
   "id": "190960f6",
   "metadata": {},
   "outputs": [],
   "source": []
  }
 ],
 "metadata": {
  "kernelspec": {
   "display_name": "Python 3 (ipykernel)",
   "language": "python",
   "name": "python3"
  },
  "language_info": {
   "codemirror_mode": {
    "name": "ipython",
    "version": 3
   },
   "file_extension": ".py",
   "mimetype": "text/x-python",
   "name": "python",
   "nbconvert_exporter": "python",
   "pygments_lexer": "ipython3",
   "version": "3.9.13"
  }
 },
 "nbformat": 4,
 "nbformat_minor": 5
}
